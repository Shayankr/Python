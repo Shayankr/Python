{
 "cells": [
  {
   "cell_type": "code",
   "execution_count": 1,
   "id": "d9de4dd0-f9ce-4a7d-9e4a-56525e18d481",
   "metadata": {},
   "outputs": [],
   "source": [
    "# Create an empty class\n",
    "\n",
    "class test:\n",
    "    pass"
   ]
  },
  {
   "cell_type": "code",
   "execution_count": 2,
   "id": "bb26dd0f-65c4-4b54-a329-a881ff3a8812",
   "metadata": {},
   "outputs": [],
   "source": [
    "a = test()"
   ]
  },
  {
   "cell_type": "code",
   "execution_count": 4,
   "id": "c5d69039-7458-4a4d-b000-9dc34af8f283",
   "metadata": {},
   "outputs": [
    {
     "name": "stdout",
     "output_type": "stream",
     "text": [
      "<class '__main__.test'>\n"
     ]
    }
   ],
   "source": [
    "print(type(a))"
   ]
  },
  {
   "cell_type": "code",
   "execution_count": 5,
   "id": "5d4fb610-a06c-4a9e-a714-f70e73668802",
   "metadata": {},
   "outputs": [
    {
     "name": "stdout",
     "output_type": "stream",
     "text": [
      "<class 'str'>\n"
     ]
    }
   ],
   "source": [
    "print(type(\"pwskills\"))"
   ]
  },
  {
   "cell_type": "code",
   "execution_count": 7,
   "id": "ce4ece5e-d354-4a05-83b9-9999da424e3b",
   "metadata": {},
   "outputs": [
    {
     "name": "stdout",
     "output_type": "stream",
     "text": [
      "<class 'int'>\n"
     ]
    }
   ],
   "source": [
    "print(type(3))"
   ]
  },
  {
   "cell_type": "code",
   "execution_count": 8,
   "id": "d13ac4ae-47d3-4ded-8079-5617ffd2365f",
   "metadata": {},
   "outputs": [],
   "source": [
    "class IITG:\n",
    "    \n",
    "    def welcome_msg(self):\n",
    "        print(\"welcome to IITG\")"
   ]
  },
  {
   "cell_type": "code",
   "execution_count": 9,
   "id": "120d0839-0e5b-43dd-9196-9fd563c3ec1e",
   "metadata": {},
   "outputs": [],
   "source": [
    "shayan = IITG()"
   ]
  },
  {
   "cell_type": "code",
   "execution_count": 10,
   "id": "2ae13a24-f7e2-4fe9-82cd-2d30e956704b",
   "metadata": {},
   "outputs": [
    {
     "name": "stdout",
     "output_type": "stream",
     "text": [
      "welcome to IITG\n"
     ]
    }
   ],
   "source": [
    "shayan.welcome_msg()"
   ]
  },
  {
   "cell_type": "code",
   "execution_count": 12,
   "id": "ba556ff8-ea40-4460-b5e6-44295bdbe0bd",
   "metadata": {},
   "outputs": [],
   "source": [
    "a=1;b=2"
   ]
  },
  {
   "cell_type": "code",
   "execution_count": 13,
   "id": "05f7fd60-0c46-43a9-a2b2-bb837083c0a3",
   "metadata": {},
   "outputs": [
    {
     "name": "stdout",
     "output_type": "stream",
     "text": [
      "1 2\n"
     ]
    }
   ],
   "source": [
    "print(a,b)"
   ]
  },
  {
   "cell_type": "code",
   "execution_count": 14,
   "id": "22c48bb0-60c1-496f-826c-0f56c9249ab1",
   "metadata": {},
   "outputs": [],
   "source": [
    "class pwskills1:\n",
    "    \n",
    "    def __init__(self ,phone_number , email_id, student_id ):\n",
    "        \n",
    "        self.phone_number = phone_number\n",
    "        self.email_id = email_id\n",
    "        self.student_id = student_id\n",
    "        \n",
    "    \n",
    "    def return_student_detials(self):\n",
    "        return self.phone_number, self.email_id , self.student_id\n",
    "        "
   ]
  },
  {
   "cell_type": "code",
   "execution_count": 15,
   "id": "81c31050-efde-4952-9dd0-13ca13aa4c53",
   "metadata": {},
   "outputs": [],
   "source": [
    "sohan = pwskills1(999679869 , \"sohan@gmail.com\" , 102)"
   ]
  },
  {
   "cell_type": "code",
   "execution_count": 16,
   "id": "b8889dbe-dcbb-4441-b680-00d1efaf889b",
   "metadata": {},
   "outputs": [
    {
     "data": {
      "text/plain": [
       "999679869"
      ]
     },
     "execution_count": 16,
     "metadata": {},
     "output_type": "execute_result"
    }
   ],
   "source": [
    "sohan.phone_number"
   ]
  },
  {
   "cell_type": "code",
   "execution_count": 17,
   "id": "b9b922c8-b63a-4728-aa7b-d450ef53bca1",
   "metadata": {},
   "outputs": [],
   "source": [
    "rohan = pwskills1(95435665, \"rohan@gmail.com\" , 101)"
   ]
  },
  {
   "cell_type": "code",
   "execution_count": 18,
   "id": "d4a062b7-b097-40f6-a417-a7f1d37a4a68",
   "metadata": {},
   "outputs": [
    {
     "data": {
      "text/plain": [
       "95435665"
      ]
     },
     "execution_count": 18,
     "metadata": {},
     "output_type": "execute_result"
    }
   ],
   "source": [
    "rohan.phone_number"
   ]
  },
  {
   "cell_type": "code",
   "execution_count": 19,
   "id": "8aafdd70-50cc-48f6-934f-d687d02376bc",
   "metadata": {},
   "outputs": [
    {
     "data": {
      "text/plain": [
       "'rohan@gmail.com'"
      ]
     },
     "execution_count": 19,
     "metadata": {},
     "output_type": "execute_result"
    }
   ],
   "source": [
    "rohan.email_id"
   ]
  },
  {
   "cell_type": "code",
   "execution_count": 20,
   "id": "8f575fba-384a-4922-ab58-bc23007842cf",
   "metadata": {},
   "outputs": [
    {
     "data": {
      "text/plain": [
       "101"
      ]
     },
     "execution_count": 20,
     "metadata": {},
     "output_type": "execute_result"
    }
   ],
   "source": [
    "rohan.student_id"
   ]
  },
  {
   "cell_type": "code",
   "execution_count": 21,
   "id": "5fac71fe-9e65-4b94-a318-bc66070406f6",
   "metadata": {},
   "outputs": [
    {
     "data": {
      "text/plain": [
       "(95435665, 'rohan@gmail.com', 101)"
      ]
     },
     "execution_count": 21,
     "metadata": {},
     "output_type": "execute_result"
    }
   ],
   "source": [
    "rohan.return_student_detials()"
   ]
  },
  {
   "cell_type": "code",
   "execution_count": null,
   "id": "57293561-8058-41b2-885d-e56958db1851",
   "metadata": {},
   "outputs": [],
   "source": []
  },
  {
   "cell_type": "code",
   "execution_count": 22,
   "id": "2ec5bf77-6485-4e65-92e3-5144101fa5ac",
   "metadata": {},
   "outputs": [],
   "source": [
    "class pwskills2:\n",
    "    \n",
    "    def __init__(sudh ,phone_number , email_id, student_id ):\n",
    "        \n",
    "        sudh.phone_number = phone_number\n",
    "        sudh.email_id = email_id\n",
    "        sudh.student_id = student_id\n",
    "        \n",
    "    \n",
    "    def return_student_detials(sudh):\n",
    "        return sudh.phone_number, sudh.email_id , sudh.student_id"
   ]
  },
  {
   "cell_type": "code",
   "execution_count": 23,
   "id": "d3eac869-b050-4867-bd70-14fb96a0f2bf",
   "metadata": {},
   "outputs": [],
   "source": [
    "mohan = pwskills2(99699579567, \"mohan@gmail.com\" , 234)"
   ]
  },
  {
   "cell_type": "code",
   "execution_count": 24,
   "id": "e1963f7b-ac8e-4f68-9654-95ed623233cd",
   "metadata": {},
   "outputs": [
    {
     "data": {
      "text/plain": [
       "99699579567"
      ]
     },
     "execution_count": 24,
     "metadata": {},
     "output_type": "execute_result"
    }
   ],
   "source": [
    "mohan.phone_number"
   ]
  },
  {
   "cell_type": "code",
   "execution_count": 25,
   "id": "bf4608fc-7246-49f2-89de-39e70f0a3db5",
   "metadata": {},
   "outputs": [
    {
     "data": {
      "text/plain": [
       "(99699579567, 'mohan@gmail.com', 234)"
      ]
     },
     "execution_count": 25,
     "metadata": {},
     "output_type": "execute_result"
    }
   ],
   "source": [
    "mohan.return_student_detials()"
   ]
  },
  {
   "cell_type": "code",
   "execution_count": null,
   "id": "9fe639a0-fc49-4180-9ba0-84abb883488c",
   "metadata": {},
   "outputs": [],
   "source": []
  },
  {
   "cell_type": "code",
   "execution_count": 26,
   "id": "9cd1b192-7767-472b-813d-3f07dc229df3",
   "metadata": {},
   "outputs": [],
   "source": [
    "class pwskills3:\n",
    "    \n",
    "    def __init__(sudh ,phone_number , email_id, student_id ):\n",
    "        \n",
    "        sudh.phone_number1 = phone_number\n",
    "        sudh.email_id = email_id\n",
    "        sudh.student_id = student_id\n",
    "        \n",
    "    \n",
    "    def return_student_detials(sudh):\n",
    "        return sudh.phone_number1, sudh.email_id , sudh.student_id"
   ]
  },
  {
   "cell_type": "code",
   "execution_count": 27,
   "id": "f113ed9d-1e72-4df0-a00a-7c5fe71d2dc5",
   "metadata": {},
   "outputs": [],
   "source": [
    "rohan = pwskills3(999735,\"rohan@gmail.com\" , 123)"
   ]
  },
  {
   "cell_type": "code",
   "execution_count": 28,
   "id": "78f16139-00b4-4dee-813d-8680ef9f4895",
   "metadata": {},
   "outputs": [
    {
     "data": {
      "text/plain": [
       "999735"
      ]
     },
     "execution_count": 28,
     "metadata": {},
     "output_type": "execute_result"
    }
   ],
   "source": [
    "rohan.phone_number1"
   ]
  },
  {
   "cell_type": "code",
   "execution_count": 29,
   "id": "2efbf689-974c-4efb-a1f1-c09eb1c9868e",
   "metadata": {},
   "outputs": [
    {
     "data": {
      "text/plain": [
       "(999735, 'rohan@gmail.com', 123)"
      ]
     },
     "execution_count": 29,
     "metadata": {},
     "output_type": "execute_result"
    }
   ],
   "source": [
    "rohan.return_student_detials()"
   ]
  },
  {
   "cell_type": "code",
   "execution_count": null,
   "id": "c98abe57-3bee-4455-9b83-7c797aa85279",
   "metadata": {},
   "outputs": [],
   "source": []
  }
 ],
 "metadata": {
  "kernelspec": {
   "display_name": "Python 3 (ipykernel)",
   "language": "python",
   "name": "python3"
  },
  "language_info": {
   "codemirror_mode": {
    "name": "ipython",
    "version": 3
   },
   "file_extension": ".py",
   "mimetype": "text/x-python",
   "name": "python",
   "nbconvert_exporter": "python",
   "pygments_lexer": "ipython3",
   "version": "3.10.8"
  }
 },
 "nbformat": 4,
 "nbformat_minor": 5
}
