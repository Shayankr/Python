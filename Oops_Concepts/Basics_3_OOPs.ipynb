{
 "cells": [
  {
   "cell_type": "code",
   "execution_count": 1,
   "id": "af74e408-9f06-42e0-8e26-f0dd9256e4ea",
   "metadata": {},
   "outputs": [
    {
     "name": "stdout",
     "output_type": "stream",
     "text": [
      "Hey, People\n",
      "<class 'NoneType'>\n"
     ]
    }
   ],
   "source": [
    "def hello():\n",
    "    print(\"Hey, People\")\n",
    "    \n",
    "x = hello()\n",
    "print(type(x))"
   ]
  },
  {
   "cell_type": "code",
   "execution_count": 2,
   "id": "d21744c2-464d-4235-bb73-ea5b225cee46",
   "metadata": {},
   "outputs": [],
   "source": [
    "# class - blueprint of the thing that we want to create\n",
    "# Properties /  Attributes\n",
    "# Methods / Behaviour\n",
    "\n",
    "# Object - specific instant of the class"
   ]
  },
  {
   "cell_type": "code",
   "execution_count": 4,
   "id": "234c4bac-6935-4a86-9377-17a495461be2",
   "metadata": {
    "jp-MarkdownHeadingCollapsed": true,
    "tags": []
   },
   "outputs": [],
   "source": [
    "# className -- camelCase -- Starting with capital letter tehn small alphabet if multiple name then follow CamelCase\n"
   ]
  },
  {
   "cell_type": "code",
   "execution_count": null,
   "id": "c7449897-835c-4eda-b985-ce26f58dd8e0",
   "metadata": {},
   "outputs": [],
   "source": []
  },
  {
   "cell_type": "code",
   "execution_count": 9,
   "id": "a093c02c-0920-4815-ba9d-df4dc1d89fb8",
   "metadata": {},
   "outputs": [
    {
     "name": "stdout",
     "output_type": "stream",
     "text": [
      "<class '__main__.Human'>\n",
      "<class '__main__.Human'>\n",
      "Working!\n"
     ]
    }
   ],
   "source": [
    "class Human:\n",
    "    def work(self):\n",
    "        print(\"Working!\")\n",
    "    def eat(self):\n",
    "        print(\"Eating\")\n",
    "        \n",
    "h = Human() # Instantiating an object\n",
    "print(type(Human()))\n",
    "print(type(h))\n",
    "h.work()"
   ]
  },
  {
   "cell_type": "code",
   "execution_count": 15,
   "id": "a26227fe-aa3d-4584-9d67-94d8c3f25428",
   "metadata": {},
   "outputs": [
    {
     "name": "stdout",
     "output_type": "stream",
     "text": [
      "Hey, init invoked\n",
      "Naman\n",
      "Working!\n",
      "None\n"
     ]
    }
   ],
   "source": [
    "class Human:\n",
    "    def __init__(self): # Constructor\n",
    "        print(\"Hey, init invoked\")\n",
    "        \n",
    "        self.height=6\n",
    "        self.name=\"Naman\"\n",
    "        self.age=23\n",
    "        \n",
    "    def work(self):\n",
    "        print(\"Working!\")\n",
    "    def eat(self):\n",
    "        print(\"Eating\")\n",
    "        \n",
    "h = Human() # Instantiating an object\n",
    "print(h.name)\n",
    "print(h.work())"
   ]
  },
  {
   "cell_type": "code",
   "execution_count": 21,
   "id": "55ae2a6d-7d17-4fc3-9576-20d48757a46b",
   "metadata": {},
   "outputs": [
    {
     "name": "stdout",
     "output_type": "stream",
     "text": [
      "Hey, init invoked\n",
      "Naman\n",
      "23\n",
      "25\n"
     ]
    },
    {
     "ename": "TypeError",
     "evalue": "Human.work() takes 0 positional arguments but 1 was given",
     "output_type": "error",
     "traceback": [
      "\u001b[0;31m---------------------------------------------------------------------------\u001b[0m",
      "\u001b[0;31mTypeError\u001b[0m                                 Traceback (most recent call last)",
      "Cell \u001b[0;32mIn[21], line 24\u001b[0m\n\u001b[1;32m     21\u001b[0m h\u001b[38;5;241m.\u001b[39mset_age(\u001b[38;5;241m25\u001b[39m)\n\u001b[1;32m     22\u001b[0m \u001b[38;5;28mprint\u001b[39m(h\u001b[38;5;241m.\u001b[39mage)\n\u001b[0;32m---> 24\u001b[0m \u001b[43mh\u001b[49m\u001b[38;5;241;43m.\u001b[39;49m\u001b[43mwork\u001b[49m\u001b[43m(\u001b[49m\u001b[43m)\u001b[49m\n",
      "\u001b[0;31mTypeError\u001b[0m: Human.work() takes 0 positional arguments but 1 was given"
     ]
    }
   ],
   "source": [
    "class Human:\n",
    "    def __init__(self): # Constructor\n",
    "        print(\"Hey, init invoked\")\n",
    "        \n",
    "        self.height=6\n",
    "        self.name=\"Naman\"\n",
    "        self.age=23\n",
    "        \n",
    "    def set_age(self, age):\n",
    "        self.age=age\n",
    "        \n",
    "    def work():\n",
    "        print(\"Working!\")\n",
    "    def eat(self):\n",
    "        print(\"Eating\")\n",
    "        \n",
    "h = Human() # Instantiating an object\n",
    "print(h.name)\n",
    "print(h.age)\n",
    "\n",
    "h.set_age(25)\n",
    "print(h.age)\n",
    "\n",
    "h.work()"
   ]
  },
  {
   "cell_type": "markdown",
   "id": "273d3d4a-e410-4567-88d5-1127d9063517",
   "metadata": {},
   "source": [
    "TypeError: Human.work() takes 0 positional arguments but 1 was given"
   ]
  },
  {
   "cell_type": "code",
   "execution_count": 25,
   "id": "488b783f-f902-4cbe-8d40-99eb5b5c0d8f",
   "metadata": {},
   "outputs": [
    {
     "name": "stdout",
     "output_type": "stream",
     "text": [
      "init:  139822395641952\n",
      "driver:  139822395641952\n",
      "Naman\n",
      "23\n",
      "25\n",
      "Working!\n",
      "139822395641952\n"
     ]
    }
   ],
   "source": [
    "class Human:\n",
    "    def __init__(self): # Constructor\n",
    "        # print(\"Hey, init invoked\")\n",
    "        print(\"init: \",id(self))\n",
    "        \n",
    "        self.height=6\n",
    "        self.name=\"Naman\"\n",
    "        self.age=23\n",
    "        \n",
    "    def set_age(self, age):\n",
    "        self.age=age\n",
    "        \n",
    "    def work(self):\n",
    "        print(\"Working!\")\n",
    "    def eat(self):\n",
    "        print(\"Eating\")\n",
    "        \n",
    "h = Human() # Instantiating an object\n",
    "print(\"driver: \",id(h))\n",
    "print(h.name)\n",
    "print(h.age)\n",
    "\n",
    "h.set_age(25)\n",
    "print(h.age)\n",
    "\n",
    "h.work()  # work(h)\n",
    "print(id(h))"
   ]
  },
  {
   "cell_type": "markdown",
   "id": "8483ca8d-ab66-4581-b2b7-3d6db58e126c",
   "metadata": {},
   "source": [
    "In above code: Both have same **id**"
   ]
  },
  {
   "cell_type": "code",
   "execution_count": 26,
   "id": "51cf5e7f-589a-42d3-a549-1caf313e792f",
   "metadata": {},
   "outputs": [
    {
     "name": "stdout",
     "output_type": "stream",
     "text": [
      "init:  139822397404736\n",
      "init:  139822397099552\n",
      "Working!\n"
     ]
    }
   ],
   "source": [
    "class Human:\n",
    "    def __init__(self): # Constructor\n",
    "        # print(\"Hey, init invoked\")\n",
    "        print(\"init: \",id(self))\n",
    "        \n",
    "        self.height=6\n",
    "        self.name=\"Naman\"\n",
    "        self.age=23\n",
    "        \n",
    "    def set_age(self, age):\n",
    "        self.age=age\n",
    "        \n",
    "    def work(self):\n",
    "        print(\"Working!\")\n",
    "    def eat(self):\n",
    "        print(\"Eating\")\n",
    "        \n",
    "a = Human() # Instantiating an object\n",
    "b = Human()\n",
    "\n",
    "a.work() # similar to -- work(a)"
   ]
  },
  {
   "cell_type": "markdown",
   "id": "986495fa-cb46-4cbf-a4e6-e342f66f7e76",
   "metadata": {},
   "source": [
    "In above code , the initial value of the class attribute is fixed,\n",
    "We can do own initialization also by mentioning it into constructor."
   ]
  },
  {
   "cell_type": "code",
   "execution_count": 32,
   "id": "ba36a049-00c2-48a5-9b88-26da3eec976a",
   "metadata": {},
   "outputs": [
    {
     "name": "stdout",
     "output_type": "stream",
     "text": [
      "Naman\n",
      "Shayan\n",
      "docstring is:  Human Class Implementation\n"
     ]
    }
   ],
   "source": [
    "class Human:\n",
    "    'Human Class Implementation'\n",
    "    def __init__(self, name, age, height): # Constructor\n",
    "        # print(\"Hey, init invoked\")\n",
    "        # print(\"init: \",id(self))\n",
    "        \n",
    "        self.height=height\n",
    "        self.name=name\n",
    "        self.age=age\n",
    "        \n",
    "    def set_age(self, age):\n",
    "        self.age=age\n",
    "        \n",
    "    def work(self):\n",
    "        print(\"Working!\")\n",
    "    def eat(self):\n",
    "        print(\"Eating\")\n",
    "        \n",
    "a = Human(\"Naman\", 23, 6) # Instantiating an object\n",
    "b = Human(\"Shayan\",27,6)\n",
    "\n",
    "print(a.name)\n",
    "print(b.name)\n",
    "\n",
    "print(\"docstring is: \",Human.__doc__)"
   ]
  },
  {
   "cell_type": "markdown",
   "id": "6a4f4835-93c2-4405-a586-d8728c892fab",
   "metadata": {},
   "source": [
    "### Inheritance:"
   ]
  },
  {
   "cell_type": "code",
   "execution_count": 41,
   "id": "df4361f4-c8ec-4db2-8a3a-22a5148e0fa8",
   "metadata": {},
   "outputs": [
    {
     "name": "stdout",
     "output_type": "stream",
     "text": [
      "tom\n",
      "I am tom and my age is 5\n",
      "Bark\n",
      "Animal is Eating\n"
     ]
    },
    {
     "ename": "TypeError",
     "evalue": "Pet.__init__() missing 2 required positional arguments: 'name' and 'age'",
     "output_type": "error",
     "traceback": [
      "\u001b[0;31m---------------------------------------------------------------------------\u001b[0m",
      "\u001b[0;31mTypeError\u001b[0m                                 Traceback (most recent call last)",
      "Cell \u001b[0;32mIn[41], line 34\u001b[0m\n\u001b[1;32m     31\u001b[0m d\u001b[38;5;241m.\u001b[39mspeak()\n\u001b[1;32m     32\u001b[0m d\u001b[38;5;241m.\u001b[39meat()\n\u001b[0;32m---> 34\u001b[0m c \u001b[38;5;241m=\u001b[39m \u001b[43mCat\u001b[49m\u001b[43m(\u001b[49m\u001b[43m)\u001b[49m\n\u001b[1;32m     35\u001b[0m c\u001b[38;5;241m.\u001b[39mspeak()\n\u001b[1;32m     37\u001b[0m f \u001b[38;5;241m=\u001b[39m Fish()\n",
      "\u001b[0;31mTypeError\u001b[0m: Pet.__init__() missing 2 required positional arguments: 'name' and 'age'"
     ]
    }
   ],
   "source": [
    "class Pet: # Base/ Super/ parent class\n",
    "    def __init__(self,name, age):\n",
    "        self.name = name\n",
    "        self.age = age\n",
    "        \n",
    "    def eat(self):\n",
    "        print(\"Animal is Eating\")\n",
    "        \n",
    "    def display(self):\n",
    "        print(f\"I am {self.name} and my age is {self.age}\")\n",
    "        \n",
    "    def speak(self):\n",
    "        print(\"I do not know how to speak\")\n",
    "        \n",
    "class Dog(Pet): # Derived / Sub / Child class\n",
    "    def speak(self):\n",
    "        print(\"Bark\")\n",
    "\n",
    "class Cat(Pet):\n",
    "    def speak(self):\n",
    "        print(\"Meow\")\n",
    "        \n",
    "class Fish(Pet):\n",
    "    def speak(self):\n",
    "        pass\n",
    "    \n",
    "d = Dog(\"tom\",5) # passing 2 arguments here as defined in __init__ function in parent class.\n",
    "\n",
    "print(d.name)\n",
    "d.display()\n",
    "d.speak()\n",
    "d.eat()\n",
    "\n",
    "c = Cat()\n",
    "c.speak()\n",
    "\n",
    "f = Fish()\n",
    "f.speak()"
   ]
  },
  {
   "cell_type": "code",
   "execution_count": 45,
   "id": "d664a748-e1f9-4dd1-b86c-fc57655947f5",
   "metadata": {},
   "outputs": [
    {
     "name": "stdout",
     "output_type": "stream",
     "text": [
      "rocky\n",
      "I am rocky and my age is 5\n",
      "Bark\n",
      "Animal is Eating\n",
      "Meow\n",
      "I do not know how to speak\n"
     ]
    }
   ],
   "source": [
    "class Pet: # Base/ Super/ parent class\n",
    "    def __init__(self,name, age):\n",
    "        self.name = name\n",
    "        self.age = age\n",
    "        \n",
    "    def eat(self):\n",
    "        print(\"Animal is Eating\")\n",
    "        \n",
    "    def display(self):\n",
    "        print(f\"I am {self.name} and my age is {self.age}\")\n",
    "        \n",
    "    def speak(self):\n",
    "        print(\"I do not know how to speak\")\n",
    "        \n",
    "class Dog(Pet): # Derived / Sub / Child class\n",
    "    def __init__(self, name, age, color):\n",
    "        # self.name=name\n",
    "        # self.age=age\n",
    "        super().__init__(name,age)\n",
    "        self.color=color\n",
    "    \n",
    "    def speak(self):\n",
    "        print(\"Bark\")\n",
    "\n",
    "class Cat(Pet):\n",
    "    def speak(self):\n",
    "        print(\"Meow\")\n",
    "        \n",
    "class Fish(Pet):\n",
    "    pass\n",
    "#     def speak(self):\n",
    "#         pass\n",
    "    \n",
    "d = Dog(\"rocky\",5,\"red\") # passing 2 arguments here as defined in __init__ function in parent class.\n",
    "\n",
    "print(d.name)\n",
    "d.display()\n",
    "d.speak()\n",
    "d.eat()\n",
    "\n",
    "c = Cat(\"lilly\",4)\n",
    "c.speak()\n",
    "\n",
    "f = Fish(\"Jane\",2)\n",
    "f.speak()"
   ]
  },
  {
   "cell_type": "markdown",
   "id": "503b68fe-5da0-4bd1-a91b-bc26b25c09e0",
   "metadata": {},
   "source": [
    "## Default Argument:"
   ]
  },
  {
   "cell_type": "code",
   "execution_count": 46,
   "id": "f372f6ad-31a6-4067-841c-939718464dff",
   "metadata": {},
   "outputs": [
    {
     "ename": "TypeError",
     "evalue": "Pet.__init__() missing 2 required positional arguments: 'name' and 'age'",
     "output_type": "error",
     "traceback": [
      "\u001b[0;31m---------------------------------------------------------------------------\u001b[0m",
      "\u001b[0;31mTypeError\u001b[0m                                 Traceback (most recent call last)",
      "Cell \u001b[0;32mIn[46], line 29\u001b[0m\n\u001b[1;32m     26\u001b[0m \u001b[38;5;28;01mclass\u001b[39;00m \u001b[38;5;21;01mFish\u001b[39;00m(Pet):\n\u001b[1;32m     27\u001b[0m     \u001b[38;5;28;01mpass\u001b[39;00m\n\u001b[0;32m---> 29\u001b[0m d \u001b[38;5;241m=\u001b[39m \u001b[43mDog\u001b[49m\u001b[43m(\u001b[49m\u001b[43m)\u001b[49m\n",
      "\u001b[0;31mTypeError\u001b[0m: Pet.__init__() missing 2 required positional arguments: 'name' and 'age'"
     ]
    }
   ],
   "source": [
    "class Pet: # Base/ Super/ parent class\n",
    "    def __init__(self,name, age):\n",
    "        self.name = name\n",
    "        self.age = age\n",
    "             \n",
    "    def display(self):\n",
    "        print(f\"I am {self.name} and my age is {self.age}\")\n",
    "        \n",
    "    def speak(self):\n",
    "        print(\"I do not know how to speak\")\n",
    "        \n",
    "class Dog(Pet): # Derived / Sub / Child class\n",
    "    # def __init__(self, name, age, color):\n",
    "    #     # self.name=name\n",
    "    #     # self.age=age\n",
    "    #     super().__init__(name,age)\n",
    "    #     self.color=color\n",
    "    \n",
    "    def speak(self):\n",
    "        print(\"Bark\")\n",
    "\n",
    "class Cat(Pet):\n",
    "    def speak(self):\n",
    "        print(\"Meow\")\n",
    "        \n",
    "class Fish(Pet):\n",
    "    pass\n",
    "\n",
    "d = Dog()\n",
    "# d = Dog(\"rocky\",5)"
   ]
  },
  {
   "cell_type": "markdown",
   "id": "d55de1a4-13bf-4d25-9d72-a84a7d923a08",
   "metadata": {},
   "source": [
    "**TypeError: Pet.__init__() missing 2 required positional arguments: 'name' and 'age'**"
   ]
  },
  {
   "cell_type": "markdown",
   "id": "609faecf-23de-45bf-acea-659d23527f1a",
   "metadata": {},
   "source": [
    "So, use the concept of **\"Default Argument\".**"
   ]
  },
  {
   "cell_type": "code",
   "execution_count": 53,
   "id": "65a607d7-9a18-4ae1-a1c7-ace4cf892450",
   "metadata": {},
   "outputs": [
    {
     "name": "stdout",
     "output_type": "stream",
     "text": [
      "I am Beatle and my age is 4\n",
      "I am Rocky and my age is 4\n",
      "I am ROcky and my age is 7\n",
      "I am 8 and my age is 4\n"
     ]
    }
   ],
   "source": [
    "class Pet: # Base/ Super/ parent class\n",
    "    def __init__(self,name=\"Beatle\", age=4):\n",
    "        self.name = name\n",
    "        self.age = age\n",
    "             \n",
    "    def display(self):\n",
    "        print(f\"I am {self.name} and my age is {self.age}\")\n",
    "        \n",
    "    def speak(self):\n",
    "        print(\"I do not know how to speak\")\n",
    "        \n",
    "class Dog(Pet): # Derived / Sub / Child class\n",
    "    # def __init__(self, name, age, color):\n",
    "    #     # self.name=name\n",
    "    #     # self.age=age\n",
    "    #     super().__init__(name,age)\n",
    "    #     self.color=color\n",
    "    \n",
    "    def speak(self):\n",
    "        print(\"Bark\")\n",
    "\n",
    "class Cat(Pet):\n",
    "    def speak(self):\n",
    "        print(\"Meow\")\n",
    "        \n",
    "class Fish(Pet):\n",
    "    pass\n",
    "\n",
    "d = Dog()\n",
    "# d = Dog(\"rocky\",5)\n",
    "d.display()\n",
    "\n",
    "e = Dog(\"Rocky\")\n",
    "e.display()\n",
    "\n",
    "f = Dog(\"ROcky\",7)\n",
    "f.display()\n",
    "\n",
    "g = Dog(8) # It will take 8 as name.\n",
    "g.display()"
   ]
  },
  {
   "cell_type": "markdown",
   "id": "a6331cb3-504e-4469-8d52-8cd93406461a",
   "metadata": {},
   "source": [
    "## TYpes Of Inheritance:"
   ]
  },
  {
   "cell_type": "code",
   "execution_count": 54,
   "id": "b0ce6305-82f1-4fae-bed7-c5e3d0f9dcfb",
   "metadata": {},
   "outputs": [
    {
     "name": "stdout",
     "output_type": "stream",
     "text": [
      "feature-1\n",
      "feature-2\n"
     ]
    }
   ],
   "source": [
    "# Single Inheritance\n",
    "\n",
    "class A:\n",
    "    def feature_1(self):\n",
    "        print(\"feature-1\")\n",
    "        \n",
    "class B(A):\n",
    "    def feature_2(self):\n",
    "        print(\"feature-2\")\n",
    "        \n",
    "b = B()\n",
    "b.feature_1()\n",
    "b.feature_2()"
   ]
  },
  {
   "cell_type": "code",
   "execution_count": 57,
   "id": "88cee845-f596-4359-90b2-79946e155ce7",
   "metadata": {},
   "outputs": [
    {
     "name": "stdout",
     "output_type": "stream",
     "text": [
      "GrandParentFeatures\n",
      "ParentFeatures\n",
      "Child\n",
      "ChildFeatures\n"
     ]
    }
   ],
   "source": [
    "# Multi-level Inheritance\n",
    "\n",
    "class GrandParent:\n",
    "    def GrandParentFeatures(self):\n",
    "        print(\"GrandParentFeatures\")\n",
    "        \n",
    "class Parent(GrandParent):\n",
    "    def ParentFeatures(self):\n",
    "        print(\"ParentFeatures\")\n",
    "        \n",
    "class Child(Parent):\n",
    "    def Child(self):\n",
    "        print(\"Child\")\n",
    "    def ChildFeatures(self):\n",
    "        print(\"ChildFeatures\")\n",
    "        \n",
    "# Child have access to parent class but parent has no access to parent class.\n",
    "c = Child()\n",
    "\n",
    "c.GrandParentFeatures()\n",
    "c.ParentFeatures()\n",
    "c.Child()\n",
    "c.ChildFeatures()"
   ]
  },
  {
   "cell_type": "code",
   "execution_count": 60,
   "id": "70527142-f17d-4e3d-afea-82b645da0c59",
   "metadata": {},
   "outputs": [
    {
     "name": "stdout",
     "output_type": "stream",
     "text": [
      "Studying\n",
      "Working\n",
      "Teacher\n"
     ]
    }
   ],
   "source": [
    "# Multiple Inheritance:\n",
    "\n",
    "class Student:\n",
    "    def study(self):\n",
    "        print(\"Studying\")\n",
    "    \n",
    "class Teacher:\n",
    "    def teach(self):\n",
    "        print(\"Teacher\")\n",
    "        \n",
    "class TA(Student, Teacher):\n",
    "    def work(self):\n",
    "        print(\"Working\")\n",
    "        \n",
    "#\n",
    "t = TA()\n",
    "t.study()\n",
    "t.work()\n",
    "t.teach()"
   ]
  },
  {
   "cell_type": "code",
   "execution_count": null,
   "id": "555def28-f682-49ed-ba2b-ed34a9cb3e57",
   "metadata": {},
   "outputs": [],
   "source": [
    "# Hybrid Inheritance:\n",
    "###########################"
   ]
  },
  {
   "cell_type": "code",
   "execution_count": null,
   "id": "0834d8c1-87c7-411b-b2de-f740a2d019f7",
   "metadata": {},
   "outputs": [],
   "source": []
  },
  {
   "cell_type": "markdown",
   "id": "2662912a-dca8-4d12-beb2-458a3e017010",
   "metadata": {},
   "source": [
    "## Data Mangling:"
   ]
  },
  {
   "cell_type": "code",
   "execution_count": 62,
   "id": "7d8890be-f2e0-4f69-b1fc-c79733c57414",
   "metadata": {},
   "outputs": [
    {
     "name": "stdout",
     "output_type": "stream",
     "text": [
      "Credit Card 12345 used\n"
     ]
    }
   ],
   "source": [
    "class CreditCard:\n",
    "    def __init__(self, cardNumber):\n",
    "        self.cardNumber = cardNumber\n",
    "        \n",
    "    def useCard(self):\n",
    "        print(f\"Credit Card {self.cardNumber} used\")\n",
    "        \n",
    "c = CreditCard(12345)\n",
    "c.useCard()"
   ]
  },
  {
   "cell_type": "code",
   "execution_count": 63,
   "id": "ded86a5c-d205-4b78-9db1-4ec5ab81e3ae",
   "metadata": {},
   "outputs": [
    {
     "ename": "AttributeError",
     "evalue": "'CreditCard' object has no attribute 'cardNumber'",
     "output_type": "error",
     "traceback": [
      "\u001b[0;31m---------------------------------------------------------------------------\u001b[0m",
      "\u001b[0;31mAttributeError\u001b[0m                            Traceback (most recent call last)",
      "Cell \u001b[0;32mIn[63], line 11\u001b[0m\n\u001b[1;32m      8\u001b[0m         \u001b[38;5;28mprint\u001b[39m(\u001b[38;5;124mf\u001b[39m\u001b[38;5;124m\"\u001b[39m\u001b[38;5;124mCredit Card \u001b[39m\u001b[38;5;132;01m{\u001b[39;00m\u001b[38;5;28mself\u001b[39m\u001b[38;5;241m.\u001b[39mcardNumber\u001b[38;5;132;01m}\u001b[39;00m\u001b[38;5;124m used\u001b[39m\u001b[38;5;124m\"\u001b[39m)\n\u001b[1;32m     10\u001b[0m c \u001b[38;5;241m=\u001b[39m CreditCard(\u001b[38;5;241m12345\u001b[39m)\n\u001b[0;32m---> 11\u001b[0m \u001b[43mc\u001b[49m\u001b[38;5;241;43m.\u001b[39;49m\u001b[43museCard\u001b[49m\u001b[43m(\u001b[49m\u001b[43m)\u001b[49m\n",
      "Cell \u001b[0;32mIn[63], line 8\u001b[0m, in \u001b[0;36mCreditCard.useCard\u001b[0;34m(self)\u001b[0m\n\u001b[1;32m      7\u001b[0m \u001b[38;5;28;01mdef\u001b[39;00m \u001b[38;5;21museCard\u001b[39m(\u001b[38;5;28mself\u001b[39m):\n\u001b[0;32m----> 8\u001b[0m     \u001b[38;5;28mprint\u001b[39m(\u001b[38;5;124mf\u001b[39m\u001b[38;5;124m\"\u001b[39m\u001b[38;5;124mCredit Card \u001b[39m\u001b[38;5;132;01m{\u001b[39;00m\u001b[38;5;28;43mself\u001b[39;49m\u001b[38;5;241;43m.\u001b[39;49m\u001b[43mcardNumber\u001b[49m\u001b[38;5;132;01m}\u001b[39;00m\u001b[38;5;124m used\u001b[39m\u001b[38;5;124m\"\u001b[39m)\n",
      "\u001b[0;31mAttributeError\u001b[0m: 'CreditCard' object has no attribute 'cardNumber'"
     ]
    }
   ],
   "source": [
    "# Data Mangling\n",
    "\n",
    "class CreditCard:\n",
    "    def __init__(self, cardNumber):\n",
    "        self.__cardNumber = cardNumber # Priate attribute\n",
    "        \n",
    "    def useCard(self):\n",
    "        print(f\"Credit Card {self.cardNumber} used\")\n",
    "        \n",
    "c = CreditCard(12345)\n",
    "c.useCard()"
   ]
  },
  {
   "cell_type": "markdown",
   "id": "368301d2-9a2e-48da-bf7b-8cdd7bdb7a11",
   "metadata": {},
   "source": [
    "AttributeError: 'CreditCard' object has no attribute 'cardNumber' **due to private attribute**"
   ]
  },
  {
   "cell_type": "code",
   "execution_count": 66,
   "id": "8c39342e-d441-40b9-ab92-3e14b0ee4285",
   "metadata": {},
   "outputs": [
    {
     "name": "stdout",
     "output_type": "stream",
     "text": [
      "12345\n"
     ]
    }
   ],
   "source": [
    "# Data Mangling\n",
    "\n",
    "class CreditCard:\n",
    "    def __init__(self, cardNumber):\n",
    "        self.__cardNumber = cardNumber # Priate attribute\n",
    "        \n",
    "    def useCard(self):\n",
    "        print(f\"Credit Card {self.cardNumber} used\")\n",
    "        \n",
    "c = CreditCard(12345)\n",
    "print(c._CreditCard__cardNumber)  # Deal with private datatype."
   ]
  },
  {
   "cell_type": "markdown",
   "id": "286c5984-efd1-4841-874f-816286a100de",
   "metadata": {},
   "source": [
    "## Class Methods:"
   ]
  },
  {
   "cell_type": "markdown",
   "id": "9e665df1-ba33-4a08-bbb4-e410484826f7",
   "metadata": {},
   "source": [
    "### Class Attributes:"
   ]
  },
  {
   "cell_type": "markdown",
   "id": "210aadcf-29e3-4e94-9b47-1bd789c16f51",
   "metadata": {},
   "source": [
    "attributes realted to the class, not on the instance/object:"
   ]
  },
  {
   "cell_type": "code",
   "execution_count": 72,
   "id": "9a6386b1-df18-4008-a265-0dbd88834abc",
   "metadata": {},
   "outputs": [
    {
     "name": "stdout",
     "output_type": "stream",
     "text": [
      "1\n",
      "2\n",
      "2\n",
      "after using decorator: \n",
      "1\n"
     ]
    }
   ],
   "source": [
    "class Employee:\n",
    "    totalEmployees = 0 # class attribute\n",
    "    \n",
    "    def __init__(self, name):\n",
    "        self.name=name # Instance attribute\n",
    "        # self.totalEmployees +=1            # do not prefer bcoz, self is related to object, evem it gives the same result.\n",
    "        Employee.totalEmployees += 1\n",
    "    \n",
    "    @classmethod    # decorator\n",
    "    def removeEmployee(self):\n",
    "        Employee.totalEmployees -= 1\n",
    "        \n",
    "        \n",
    "a = Employee(\"Tim\")\n",
    "print(a.totalEmployees)  # It is not good practice\n",
    "\n",
    "b = Employee(\"Corry\")\n",
    "print(b.totalEmployees)  # It is not good practice.\n",
    "\n",
    "print(Employee.totalEmployees) # It is a good practice.\n",
    "\n",
    "# after using decoartor\n",
    "# a.removeEmployees() ---- gives ERROR\n",
    "\n",
    "print(\"after using decorator: \")\n",
    "Employee.removeEmployee()\n",
    "print(Employee.totalEmployees)"
   ]
  },
  {
   "cell_type": "markdown",
   "id": "5e292457-3355-4b11-ad7c-5e30f622ea63",
   "metadata": {},
   "source": [
    "### Static Methods:"
   ]
  },
  {
   "cell_type": "markdown",
   "id": "42b4414f-5bb2-4e5c-85bd-549dc24a11f6",
   "metadata": {},
   "source": [
    "this method have nothing to do with **object**, no object creation nothing required."
   ]
  },
  {
   "cell_type": "code",
   "execution_count": 74,
   "id": "524acd84-0d67-4bae-b53f-b2c454bdc84b",
   "metadata": {},
   "outputs": [
    {
     "ename": "TypeError",
     "evalue": "Math.square() missing 1 required positional argument: 'num'",
     "output_type": "error",
     "traceback": [
      "\u001b[0;31m---------------------------------------------------------------------------\u001b[0m",
      "\u001b[0;31mTypeError\u001b[0m                                 Traceback (most recent call last)",
      "Cell \u001b[0;32mIn[74], line 8\u001b[0m\n\u001b[1;32m      5\u001b[0m         \u001b[38;5;28;01mreturn\u001b[39;00m num\u001b[38;5;241m*\u001b[39mnum\n\u001b[1;32m      7\u001b[0m a \u001b[38;5;241m=\u001b[39m Math()\n\u001b[0;32m----> 8\u001b[0m \u001b[38;5;28mprint\u001b[39m(\u001b[43ma\u001b[49m\u001b[38;5;241;43m.\u001b[39;49m\u001b[43msquare\u001b[49m\u001b[43m(\u001b[49m\u001b[38;5;241;43m9\u001b[39;49m\u001b[43m)\u001b[49m)\n",
      "\u001b[0;31mTypeError\u001b[0m: Math.square() missing 1 required positional argument: 'num'"
     ]
    }
   ],
   "source": [
    "class Math:\n",
    "    \n",
    "    @staticmethod\n",
    "    def square(self, num):\n",
    "        return num*num\n",
    "    \n",
    "a = Math()\n",
    "print(a.square(9))"
   ]
  },
  {
   "cell_type": "code",
   "execution_count": 76,
   "id": "dabcc66d-6d8c-4e67-8f7c-abc3389677fe",
   "metadata": {},
   "outputs": [
    {
     "name": "stdout",
     "output_type": "stream",
     "text": [
      "9\n",
      "81\n"
     ]
    }
   ],
   "source": [
    "class Math:\n",
    "    \n",
    "    @staticmethod\n",
    "    def square(self):\n",
    "        print(self)\n",
    "        return self*self\n",
    "    \n",
    "a = Math()\n",
    "print(a.square(9))"
   ]
  },
  {
   "cell_type": "code",
   "execution_count": 77,
   "id": "b9ecbdd1-d52f-4099-8279-81a20e054521",
   "metadata": {},
   "outputs": [
    {
     "ename": "TypeError",
     "evalue": "Math.square() takes 1 positional argument but 2 were given",
     "output_type": "error",
     "traceback": [
      "\u001b[0;31m---------------------------------------------------------------------------\u001b[0m",
      "\u001b[0;31mTypeError\u001b[0m                                 Traceback (most recent call last)",
      "Cell \u001b[0;32mIn[77], line 9\u001b[0m\n\u001b[1;32m      6\u001b[0m         \u001b[38;5;28;01mreturn\u001b[39;00m \u001b[38;5;28mself\u001b[39m\u001b[38;5;241m*\u001b[39m\u001b[38;5;28mself\u001b[39m\n\u001b[1;32m      8\u001b[0m a \u001b[38;5;241m=\u001b[39m Math()\n\u001b[0;32m----> 9\u001b[0m \u001b[38;5;28mprint\u001b[39m(\u001b[43ma\u001b[49m\u001b[38;5;241;43m.\u001b[39;49m\u001b[43msquare\u001b[49m\u001b[43m(\u001b[49m\u001b[38;5;241;43m9\u001b[39;49m\u001b[43m)\u001b[49m)\n",
      "\u001b[0;31mTypeError\u001b[0m: Math.square() takes 1 positional argument but 2 were given"
     ]
    }
   ],
   "source": [
    "class Math:\n",
    "    \n",
    "    # @staticmethod\n",
    "    def square(self):\n",
    "        print(self)\n",
    "        return self*self\n",
    "    \n",
    "a = Math()\n",
    "print(a.square(9))"
   ]
  },
  {
   "cell_type": "code",
   "execution_count": 83,
   "id": "9b178bff-9d3f-446d-b87f-72cde30948c4",
   "metadata": {},
   "outputs": [
    {
     "name": "stdout",
     "output_type": "stream",
     "text": [
      "9\n",
      "<__main__.Math object at 0x7f2af05b5270>\n",
      "81\n"
     ]
    }
   ],
   "source": [
    "class Math:\n",
    "    \n",
    "    # @staticmethod\n",
    "    def square(self, num):\n",
    "        print(num)\n",
    "        print(self)\n",
    "        return num*num\n",
    "    \n",
    "a = Math()\n",
    "print(a.square(9))"
   ]
  },
  {
   "cell_type": "code",
   "execution_count": 91,
   "id": "858b920b-69fa-4dcd-af48-6bcf1942a182",
   "metadata": {},
   "outputs": [
    {
     "name": "stdout",
     "output_type": "stream",
     "text": [
      "7\n",
      "9\n",
      "49\n"
     ]
    }
   ],
   "source": [
    "class Math:   \n",
    "    @staticmethod\n",
    "    def square(self, num):\n",
    "        print(num)\n",
    "        print(self)\n",
    "        return num*num\n",
    "    \n",
    "# a = Math()\n",
    "# print(a.square(9))\n",
    "print(Math.square(9,7))   # No importance of self variable, the object one ."
   ]
  },
  {
   "cell_type": "code",
   "execution_count": 90,
   "id": "60d0c07a-84c9-437e-a2bf-0563d51a9361",
   "metadata": {},
   "outputs": [
    {
     "name": "stdout",
     "output_type": "stream",
     "text": [
      "9\n",
      "81\n"
     ]
    }
   ],
   "source": [
    "class Math:   \n",
    "    @staticmethod\n",
    "    def square(num):\n",
    "        print(num)\n",
    "        # print(self)\n",
    "        return num*num\n",
    "    \n",
    "# a = Math()\n",
    "# print(a.square(9))\n",
    "print(Math.square(9))"
   ]
  },
  {
   "cell_type": "markdown",
   "id": "142bc9aa-4559-43a2-9a8f-521870470068",
   "metadata": {},
   "source": [
    "#### NExt NoteBook"
   ]
  }
 ],
 "metadata": {
  "kernelspec": {
   "display_name": "Python 3 (ipykernel)",
   "language": "python",
   "name": "python3"
  },
  "language_info": {
   "codemirror_mode": {
    "name": "ipython",
    "version": 3
   },
   "file_extension": ".py",
   "mimetype": "text/x-python",
   "name": "python",
   "nbconvert_exporter": "python",
   "pygments_lexer": "ipython3",
   "version": "3.10.8"
  }
 },
 "nbformat": 4,
 "nbformat_minor": 5
}
