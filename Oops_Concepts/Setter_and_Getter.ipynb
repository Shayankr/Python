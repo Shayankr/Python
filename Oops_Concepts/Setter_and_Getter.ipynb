{
 "cells": [
  {
   "cell_type": "markdown",
   "id": "d0ebb24b-e940-416b-94fc-6bdc2901ff62",
   "metadata": {},
   "source": [
    "# <center>setters and getters</center>"
   ]
  },
  {
   "cell_type": "markdown",
   "id": "71da48b2-b8ed-4eff-bd8b-99c0d4b75541",
   "metadata": {},
   "source": [
    "Setter and getter are methods used in object-oriented programming (OOP) to access and modify class attributes (variables). \n",
    "\n",
    "The setter method sets the value of a private variable while the getter method retrieves the value of a private variable. \n",
    "\n",
    "The private variables are often referred to as instance variables, and their values can only be accessed and changed through the setter and getter methods"
   ]
  },
  {
   "cell_type": "markdown",
   "id": "5fb53819-c4b6-46cc-a9a1-e878cdf173f0",
   "metadata": {},
   "source": [
    "**setters and getters are typically used with private variables.**"
   ]
  },
  {
   "cell_type": "markdown",
   "id": "1494d135-2287-42fa-bdba-ee88e78b2cf4",
   "metadata": {},
   "source": [
    "Private variables are those that are intended to be used only within the class and not accessed or modified directly by external code. \n",
    "\n",
    "By making a variable private, we ensure that it is not accidentally modified by external code and that its values are controlled by the class.\n",
    "\n",
    "\n",
    "When we use setters and getters with private variables, we can control how these variables are accessed and modified. \n",
    "\n",
    "For example, we can set validation rules for the input values, we can prevent unauthorized access, or we can modify the value before it is returned. \n",
    "\n",
    "By doing this, we can ensure that the class attributes are used correctly, and we can prevent any unwanted side-effects.\n",
    "\n",
    "However, it is important to note that setters and getters can also be used with public variables if we need to control the access to these variables or if we need to perform any validations or transformations on their values."
   ]
  },
  {
   "cell_type": "code",
   "execution_count": 1,
   "id": "9f384172-d95b-444f-b088-ddec18e18481",
   "metadata": {},
   "outputs": [
    {
     "name": "stdout",
     "output_type": "stream",
     "text": [
      "John\n",
      "30\n",
      "Jane\n",
      "25\n"
     ]
    }
   ],
   "source": [
    "# here's an example of how to use a getter and a setter in Python:\n",
    "\n",
    "class Person:\n",
    "    def __init__(self, name, age):\n",
    "        self._name = name\n",
    "        self._age = age\n",
    "        \n",
    "    # getter method for name\n",
    "    def get_name(self):\n",
    "        return self._name\n",
    "    \n",
    "    # setter method for name\n",
    "    def set_name(self, name):\n",
    "        self._name = name\n",
    "        \n",
    "    # getter method for age\n",
    "    def get_age(self):\n",
    "        return self._age\n",
    "    \n",
    "    # setter method for age\n",
    "    def set_age(self, age):\n",
    "        self._age = age\n",
    "        \n",
    "# create an object of Person and use the getter and setter methods\n",
    "person = Person(\"John\", 30)\n",
    "\n",
    "# use the getter methods to get the current values\n",
    "print(person.get_name())\n",
    "print(person.get_age())\n",
    "\n",
    "# use the setter methods to set new values\n",
    "person.set_name(\"Jane\")\n",
    "person.set_age(25)\n",
    "\n",
    "# use the getter methods again to get the updated values\n",
    "print(person.get_name())\n",
    "print(person.get_age())\n"
   ]
  },
  {
   "cell_type": "markdown",
   "id": "8d011236-a4db-4d29-a11c-04c97cef4725",
   "metadata": {},
   "source": [
    "In this example, we have a **Person class** with a constructor that takes a **name** and an **age** parameter. We have also defined **getter** and **setter** methods for the name and age attributes of the class.\n",
    "\n",
    "To get the current value of the name and age attributes, we call the get_name() and get_age() methods, respectively. \n",
    "\n",
    "To set new values for these attributes, we call the set_name() and set_age() methods, passing in the new values as parameters.\n",
    "\n",
    "We create an object of the Person class with an initial name of \"John\" and an age of 30, and then use the getter methods to get the initial values. \n",
    "\n",
    "We then use the setter methods to set new values for the name and age attributes, and use the getter methods again to get the updated values. \n",
    "\n",
    "Finally, we print out the current values of the name and age attributes."
   ]
  },
  {
   "cell_type": "markdown",
   "id": "b52384fd-949b-4cb5-8a92-1077d22a2224",
   "metadata": {},
   "source": [
    "The primary purpose of using setters and getters is to ensure that the access to the class attributes is controlled, and that the values are validated before they are set or retrieved. \n",
    "\n",
    "By controlling the access to class attributes through setters and getters, we can prevent the unwanted modification of these attributes from external sources, ensuring the integrity of the class."
   ]
  },
  {
   "cell_type": "markdown",
   "id": "357d7e8e-6dbc-460e-b137-0c29c494fbbc",
   "metadata": {},
   "source": [
    "**In summary, setters and getters allow us to ensure that the access to class attributes is restricted, and that any modifications to these attributes are validated. They help in maintaining the integrity of the class by controlling the access to the class attributes.**"
   ]
  },
  {
   "cell_type": "markdown",
   "id": "de959b4b-a3bf-41e2-bfb2-652b82426e68",
   "metadata": {},
   "source": [
    "Next NoteBook"
   ]
  }
 ],
 "metadata": {
  "kernelspec": {
   "display_name": "Python 3 (ipykernel)",
   "language": "python",
   "name": "python3"
  },
  "language_info": {
   "codemirror_mode": {
    "name": "ipython",
    "version": 3
   },
   "file_extension": ".py",
   "mimetype": "text/x-python",
   "name": "python",
   "nbconvert_exporter": "python",
   "pygments_lexer": "ipython3",
   "version": "3.10.8"
  }
 },
 "nbformat": 4,
 "nbformat_minor": 5
}
