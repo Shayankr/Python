{
 "cells": [
  {
   "cell_type": "markdown",
   "id": "090e2320",
   "metadata": {},
   "source": [
    "# <center>Object Oriented Programming"
   ]
  },
  {
   "cell_type": "markdown",
   "id": "798945e2",
   "metadata": {},
   "source": [
    "<img src=\"https://media.geeksforgeeks.org/wp-content/cdn-uploads/20190717114649/Object-Oriented-Programming-Concepts.jpg\" height=200 width=300/>"
   ]
  },
  {
   "cell_type": "markdown",
   "id": "a37557f8",
   "metadata": {},
   "source": [
    "OOPs is <b>a programming paradigms</b> that uses the concept of <b>class</b> and <b>objects</b>."
   ]
  },
  {
   "cell_type": "markdown",
   "id": "9c59ab70",
   "metadata": {},
   "source": [
    "It implements real-world entities like inheritance, polymorphisms, encapsulation, etc. in the programming"
   ]
  },
  {
   "cell_type": "markdown",
   "id": "16fc4ec8",
   "metadata": {},
   "source": [
    "There are 4 pillars of OOPs:\n",
    "*    1. Inheritance\n",
    "*    2. Encapsulation\n",
    "*    3. Abstraction\n",
    "*    4. Polymorphism"
   ]
  },
  {
   "cell_type": "markdown",
   "id": "a49a1680",
   "metadata": {},
   "source": [
    "<b>Class </b>\n",
    "* A class is a collection of objects. \n",
    "* A class contains the blueprints or the prototype from which the objects are being created. \n",
    "* It is a logical entity that contains some <b>attributes</b> and <b>methods. </b>"
   ]
  },
  {
   "cell_type": "markdown",
   "id": "a9f9cdaf",
   "metadata": {},
   "source": [
    "<b>Some points on Python class: </b> \n",
    "\n",
    "* Classes are created by <b>keyword class</b>.\n",
    "* Attributes are the variables that belong to a class.\n",
    "* <b>Attributes are always public</b> and can be accessed using the dot (.) operator. Eg.: Myclass.Myattribute"
   ]
  },
  {
   "cell_type": "markdown",
   "id": "54b62b96-7309-412c-928c-313e9d753fac",
   "metadata": {},
   "source": [
    "<U>Difference Between **Object-Oriented Programming (OOP)** and **Procedural-Oriented Programming (Pop)**"
   ]
  },
  {
   "cell_type": "markdown",
   "id": "7f442971-b519-4bde-857a-05107196f04d",
   "metadata": {},
   "source": [
    "|Object-Oriented Programming (OOPs) | Procedural Oriented Programming (POP) |\n",
    "|-----------------------------------| --------------------------------------|\n",
    "|Bottom-Up Approach | Top Down Approach|\n",
    "| Program is divided into objects | Program is divided into functions|\n",
    "| Makes use of Access modifiers | No use of Access modifiers |\n",
    "| It is more secure | It is less secure |\n",
    "| Object can move freely within member functions | Data can move freely from function to functions with-in program|\n",
    "|It supports Inheritance | It does not support Inheritance |"
   ]
  },
  {
   "cell_type": "markdown",
   "id": "97289c07-528c-4819-9ea7-6c383a1698ec",
   "metadata": {},
   "source": [
    "#### Building a class"
   ]
  },
  {
   "cell_type": "markdown",
   "id": "2905d565-8a3a-40d8-a954-a5c3509c83fd",
   "metadata": {},
   "source": [
    "### Example 1:"
   ]
  },
  {
   "cell_type": "code",
   "execution_count": 17,
   "id": "16cdcac3-d9d3-4eb7-8aa4-d23aca32b3c1",
   "metadata": {},
   "outputs": [
    {
     "name": "stdout",
     "output_type": "stream",
     "text": [
      "Tom is a Cat\n"
     ]
    }
   ],
   "source": [
    "class Animals():\n",
    "    def __init__(self, name, age, color):\n",
    "        self.name = name\n",
    "        self.age=age\n",
    "        self.color = color\n",
    "        \n",
    "tom = Animals(\"Cat\",3,\"Black\")\n",
    "jerry = Animals(\"Rat\",4,\"Brown\")\n",
    "\n",
    "print(\"Tom is a {}\".format(tom.name))"
   ]
  },
  {
   "cell_type": "code",
   "execution_count": null,
   "id": "b4ec45df-2c85-4165-b333-14efc31314c6",
   "metadata": {},
   "outputs": [],
   "source": []
  },
  {
   "cell_type": "markdown",
   "id": "9c4afcc0-0462-44f5-ac17-8492ecdc581f",
   "metadata": {},
   "source": [
    "### Inheritance:"
   ]
  },
  {
   "cell_type": "markdown",
   "id": "f4a5e589-7ce5-4a90-ba4b-6243335f07e0",
   "metadata": {},
   "source": [
    "Inherite some behaviour from parent and also have some own behaviour:"
   ]
  },
  {
   "cell_type": "code",
   "execution_count": 18,
   "id": "cf081a88-9fc6-4f3d-a7a9-1746bc361e70",
   "metadata": {},
   "outputs": [
    {
     "name": "stdout",
     "output_type": "stream",
     "text": [
      "Animal is created\n",
      "Kangaroo is created\n",
      "Animal is created\n",
      "Kangaroo is created\n",
      "kangaroo\n",
      "jums\n",
      "runs\n"
     ]
    }
   ],
   "source": [
    "class Animal():\n",
    "    def __init__(self):\n",
    "        print(\"Animal is created\")\n",
    "    def name(self):\n",
    "        print(\"animal\")\n",
    "    def do(self):\n",
    "        print(\"runs\")\n",
    "        \n",
    "# child class\n",
    "class Kangaroo(Animal):\n",
    "    def __init__(self):\n",
    "        super().__init__()\n",
    "        print(\"Kangaroo is created\")\n",
    "    def name(self):\n",
    "        print(\"kangaroo\")\n",
    "    def jumps(self):\n",
    "        print(\"jums\")\n",
    "        \n",
    "# now create object\n",
    "kan = Kangaroo() # It calls \"__init__()\" method when an object is created.\n",
    "    # it gives two output-- 1 for super class and 1 for Kangaroo class for which objet is created.\n",
    "\n",
    "kan.__init__() # it gives two output-- 1 for super class and 1 for Kangaroo class for which objet is created.\n",
    "\n",
    "# call the method \"name()\" which is \"overridden\" in child class.\n",
    "kan.name()\n",
    "\n",
    "# call a method of own class\n",
    "kan.jumps()\n",
    "\n",
    "# call method of super class\n",
    "kan.do()"
   ]
  },
  {
   "cell_type": "markdown",
   "id": "ae72ff45-14a2-4004-8f09-9ce17ead9d48",
   "metadata": {},
   "source": [
    "### Encapsulation:"
   ]
  },
  {
   "cell_type": "markdown",
   "id": "bb60bac0-568c-4dc2-a0e6-bd8f983b4ae3",
   "metadata": {},
   "source": [
    "Hide the information: It gives the way such that no one can access the information directly."
   ]
  },
  {
   "cell_type": "markdown",
   "id": "33521456-7e49-4358-b0e3-f484cc43c11e",
   "metadata": {},
   "source": [
    "The methods are hidden, How actually it is imllemented. There are various access modifiers."
   ]
  },
  {
   "cell_type": "code",
   "execution_count": 19,
   "id": "8ed6b562-617c-4cfb-bf65-d850873a7f6f",
   "metadata": {},
   "outputs": [],
   "source": [
    "# private: -- access method inside the own class only. from derived or any other class, it can not.\n",
    "#         Not even accessible from objects.\n",
    "    \n",
    "# protected: -- own class and derived class can access but another class or object can't access private method of another class.\n",
    "    \n",
    "# public: -- own class, derived class and object can access."
   ]
  },
  {
   "cell_type": "markdown",
   "id": "4ef09b6e-9e57-4b1b-8d43-c123b415a6ed",
   "metadata": {},
   "source": [
    "#### Example:"
   ]
  },
  {
   "cell_type": "code",
   "execution_count": 20,
   "id": "5c9902ed-b98d-4f87-8cc2-2e7fd79fa67e",
   "metadata": {},
   "outputs": [
    {
     "name": "stdout",
     "output_type": "stream",
     "text": [
      "abc\n",
      "7\n",
      "7\n"
     ]
    }
   ],
   "source": [
    "class p:\n",
    "    def __init__(self, name,age):\n",
    "        self.name=name\n",
    "        self.age = age\n",
    "        \n",
    "    def Age(self):  # By default public\n",
    "        print(self.age)\n",
    "        \n",
    "o = p(\"abc\",7)\n",
    "print(o.name)\n",
    "print(o.age)\n",
    "o.Age() # by default access modifier"
   ]
  },
  {
   "cell_type": "markdown",
   "id": "65f40b59-57de-46da-89a9-96adcf5fcc26",
   "metadata": {},
   "source": [
    "### Abstraction:"
   ]
  },
  {
   "cell_type": "markdown",
   "id": "18014cb2-0918-4aaf-8b9e-170b71dfed18",
   "metadata": {},
   "source": [
    "Something happening we know, but we do not know what is heppenning in the backend (internally)."
   ]
  },
  {
   "cell_type": "markdown",
   "id": "a3376904-bc19-4082-97de-8ea20b0bdb74",
   "metadata": {},
   "source": [
    "Abstract method can not be directly used, the instance can not be created, untill it is used for inheritance."
   ]
  },
  {
   "cell_type": "markdown",
   "id": "2b6051e4-a633-46bd-a40b-19da4280fc00",
   "metadata": {},
   "source": [
    "Abstraction is the process of simplifying complex details by hiding unnecessary information from the user. In Python, we can achieve abstraction using classes and methods"
   ]
  },
  {
   "cell_type": "code",
   "execution_count": 21,
   "id": "cd6b56ab-43a9-456c-9019-4f83ab5962b0",
   "metadata": {},
   "outputs": [
    {
     "name": "stdout",
     "output_type": "stream",
     "text": [
      "1000\n",
      "1500\n"
     ]
    }
   ],
   "source": [
    "class BankAccount:\n",
    "    '''\n",
    "    we define a BankAccount class that has an account_number and balance attribute, \n",
    "    as well as three methods: deposit, withdraw, and get_balance.\n",
    "    \n",
    "    Using this class, we can create objects that represent bank accounts and perform operations such as depositing and withdrawing funds. \n",
    "    However, the user of the BankAccount class does not need to know the underlying details of how these operations are implemented. \n",
    "    They only need to know how to interact with the class through its public methods.\n",
    "    '''\n",
    "    def __init__(self, account_number, balance):\n",
    "        self.account_number = account_number\n",
    "        self.balance = balance\n",
    "        \n",
    "    def deposit(self, amount):\n",
    "        self.balance += amount\n",
    "        \n",
    "    def withdraw(self, amount):\n",
    "        if amount <= self.balance:\n",
    "            self.balance -= amount\n",
    "        else:\n",
    "            print(\"Insufficient balance\")\n",
    "    \n",
    "    def get_balance(self):\n",
    "        return self.balance\n",
    "\n",
    "\n",
    "    \n",
    "account = BankAccount(\"123456\", 1000)\n",
    "print(account.balance)\n",
    "account.deposit(500)\n",
    "print(account.get_balance())\n",
    "# The user doesn't need to know how the deposit method is implemented or how the account balance is updated. \n",
    "# They only need to know that they can deposit money into the account using the deposit method. \n",
    "# This is an example of abstraction in action."
   ]
  },
  {
   "cell_type": "markdown",
   "id": "7500a7d4-c55d-4ae4-9717-0a5ad4fc9f38",
   "metadata": {},
   "source": [
    "### PolyMorphism:"
   ]
  },
  {
   "cell_type": "markdown",
   "id": "c5a0ec79-a103-4369-a60e-52037a2246e5",
   "metadata": {},
   "source": [
    "poly - Multiple\n",
    "morphism -- name\n",
    "\n",
    "polymorphism -- multiple things are done with same name.\n",
    "\n",
    "1. Run time Polymorphism\n",
    "2. Compile time Polymorphism -- during compile time, polymorphism checked.\n",
    "\n",
    "    3. Method overloading -- when same name for different purpose."
   ]
  },
  {
   "cell_type": "code",
   "execution_count": 22,
   "id": "42a4b9b7-51ab-4b68-9a63-aaf81c1af1df",
   "metadata": {},
   "outputs": [
    {
     "name": "stdout",
     "output_type": "stream",
     "text": [
      "Name:Shruti\n",
      "Roll No : 32\n",
      "grade: 6\n",
      "\n",
      "Name:Sam\n",
      "Roll No : 20\n",
      "Grade: 9\n"
     ]
    }
   ],
   "source": [
    "class student_1:\n",
    "    def name(self):\n",
    "        print(\"Name:Shruti\")\n",
    "    def rollNo(self):\n",
    "        print(\"Roll No : 32\")\n",
    "    def grade(self):\n",
    "        print(\"grade: 6\")\n",
    "              \n",
    "class student_2:\n",
    "    def name(self):\n",
    "        print(\"Name:Sam\")\n",
    "    def rollNo(self):\n",
    "        print(\"Roll No : 20\")\n",
    "    def grade(self):\n",
    "        print(\"Grade: 9\")\n",
    "        \n",
    "        \n",
    "# method overloading\n",
    "def f(obj):\n",
    "    obj.name()\n",
    "    obj.rollNo()\n",
    "    obj.grade()\n",
    "    \n",
    "\n",
    "obj_s1 = student_1()\n",
    "obj_s2 = student_2()\n",
    "            \n",
    "f(obj_s1)\n",
    "print()\n",
    "f(obj_s2)"
   ]
  },
  {
   "cell_type": "markdown",
   "id": "eaa94224-a230-4a9e-8ca6-523aee3b2864",
   "metadata": {},
   "source": [
    "### Run time Polymorphism:"
   ]
  },
  {
   "cell_type": "markdown",
   "id": "6c1e3432-383a-4be2-9b44-379d5c071863",
   "metadata": {},
   "source": [
    "#### Method Overriding"
   ]
  },
  {
   "cell_type": "markdown",
   "id": "f732d3b1-204b-4616-b628-aed82b3f77cc",
   "metadata": {},
   "source": [
    "Method overriding is a feature of object-oriented programming that allows a subclass to provide a different implementation of a method that is already defined in its superclass. \n",
    "\n",
    "In method overriding, the method in the subclass has the **same name and parameters** as the method in the superclass, but with a different implementation"
   ]
  },
  {
   "cell_type": "code",
   "execution_count": 23,
   "id": "ea1ac717-deaa-4712-b988-6ac63804778f",
   "metadata": {},
   "outputs": [
    {
     "name": "stdout",
     "output_type": "stream",
     "text": [
      "4 sides\n",
      "2-d shape\n",
      "side = 4 cm\n",
      "old Value\n",
      "\n",
      "Updated Value\n",
      "square new value\n"
     ]
    }
   ],
   "source": [
    "class Shape:\n",
    "    d1=\"old Value\"\n",
    "    def prop(self):\n",
    "        print(\"not defined\")\n",
    "    def two_d(self):\n",
    "        print(\"2-d shape\")\n",
    "        \n",
    "class Square(Shape):\n",
    "    d2=\"square new value\"\n",
    "    def prop(self):\n",
    "        print(\"4 sides\")\n",
    "    def side(self):\n",
    "        print(\"side = 4 cm\")\n",
    "        \n",
    "s = Square()\n",
    "s.prop()\n",
    "s.two_d()\n",
    "s.side()\n",
    "print(s.d1)\n",
    "print()\n",
    "\n",
    "s.d1 = \"Updated Value\"  # update the attribute of parent class.  # Overriding outside # during run time.\n",
    "print(s.d1)\n",
    "print(s.d2)"
   ]
  },
  {
   "cell_type": "markdown",
   "id": "e18620ea-1ac4-4223-983e-113b0af1ddda",
   "metadata": {},
   "source": [
    "Next NOteBook File"
   ]
  }
 ],
 "metadata": {
  "kernelspec": {
   "display_name": "Python 3 (ipykernel)",
   "language": "python",
   "name": "python3"
  },
  "language_info": {
   "codemirror_mode": {
    "name": "ipython",
    "version": 3
   },
   "file_extension": ".py",
   "mimetype": "text/x-python",
   "name": "python",
   "nbconvert_exporter": "python",
   "pygments_lexer": "ipython3",
   "version": "3.10.8"
  }
 },
 "nbformat": 4,
 "nbformat_minor": 5
}
