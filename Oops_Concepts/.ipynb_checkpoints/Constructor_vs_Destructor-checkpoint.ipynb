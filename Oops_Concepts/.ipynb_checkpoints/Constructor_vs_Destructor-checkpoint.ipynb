{
 "cells": [
  {
   "cell_type": "markdown",
   "id": "53b1503f-828f-4687-b873-584eb1ef0e5d",
   "metadata": {},
   "source": [
    "## Constructor`"
   ]
  },
  {
   "cell_type": "markdown",
   "id": "09334745-455b-4077-b926-69311f77da78",
   "metadata": {},
   "source": [
    "In object-oriented programming, a constructor is a special method that is used to initialize an object of a class. It is called when an object is created and typically sets up the initial values of the object's instance variables. \n",
    "\n",
    "In Python, the **constructor method** is called **__init__()** and is defined with the self parameter, which refers to the instance of the object being created.\n",
    "\n",
    "For example, consider a class Person with an **__init__()** constructor method that sets the name and age of the person:"
   ]
  },
  {
   "cell_type": "code",
   "execution_count": 1,
   "id": "a25b2fb2-9b9d-4888-8c65-8f86d37509a0",
   "metadata": {},
   "outputs": [],
   "source": [
    "class Person:\n",
    "    def __init__(self, name, age):\n",
    "        self.name = name\n",
    "        self.age = age\n"
   ]
  },
  {
   "cell_type": "markdown",
   "id": "76fc2254-2b14-45c5-a7c3-a5efcaf167f2",
   "metadata": {},
   "source": [
    "In this example, the Person class has a constructor that takes two arguments (name and age) and initializes the corresponding instance variables (self.name and self.age). \n",
    "\n",
    "To create a new instance of the Person class, you can call the constructor method:"
   ]
  },
  {
   "cell_type": "code",
   "execution_count": 2,
   "id": "52a63d19-fb38-4080-9f14-8a87ebff22a2",
   "metadata": {},
   "outputs": [],
   "source": [
    "person = Person('Alice', 25)\n"
   ]
  },
  {
   "cell_type": "markdown",
   "id": "08ddae6c-7aeb-48c6-936d-8834df690a34",
   "metadata": {},
   "source": [
    "In this example, a new instance of the Person class is created with the name 'Alice' and age 25"
   ]
  },
  {
   "cell_type": "markdown",
   "id": "ede67bca-3a55-45b3-a180-25ef8db865d4",
   "metadata": {},
   "source": [
    "## Destructor:"
   ]
  },
  {
   "cell_type": "markdown",
   "id": "c8f0fd87-be94-47d3-b798-2b68cb9abd4b",
   "metadata": {},
   "source": [
    "A destructor, on the other hand, is a special method that is called **when an object is destroyed or garbage-collected.** \n",
    "\n",
    "In Python, the destructor method is called **__del__()** and is **defined with the self parameter**, which **refers to the instance of the object being destroyed.** \n",
    "\n",
    "**The destructor can be used to perform clean-up operations before the object is destroyed, such as closing files or releasing system resources.**"
   ]
  },
  {
   "cell_type": "markdown",
   "id": "704f6fde-2ee3-4f9f-9bc3-4d9f972b940d",
   "metadata": {},
   "source": [
    "**However, in general, the use of a destructor in Python is not recommended, as Python uses automatic garbage collection to manage memory and resources, and there is no guarantee that the destructor will be called at a specific time.**\n",
    "\n",
    "**It's usually better to use context managers or the with statement to handle resource management in a more reliable and predictable way.**"
   ]
  },
  {
   "cell_type": "code",
   "execution_count": 3,
   "id": "50341d81-882e-48fa-a4a7-d9faf4630506",
   "metadata": {},
   "outputs": [
    {
     "name": "stdout",
     "output_type": "stream",
     "text": [
      "object created\n",
      "object destroyed\n"
     ]
    }
   ],
   "source": [
    "# Here's an example code that demonstrates the use of a destructor method in Python:\n",
    "\n",
    "class MyObject:\n",
    "    def __init__(self, name):\n",
    "        self.name = name\n",
    "        print(f'{self.name} created')\n",
    "    \n",
    "    def __del__(self):\n",
    "        print(f'{self.name} destroyed')\n",
    "\n",
    "obj = MyObject('object')\n",
    "del obj\n"
   ]
  },
  {
   "cell_type": "markdown",
   "id": "fc4a2036-8e5c-45c4-859e-bb9235007df9",
   "metadata": {},
   "source": [
    "In this example, we define a MyObject class with an __init__() constructor method that sets the name attribute of the object, and a __del__() destructor method that prints a message when the object is destroyed. \n",
    "\n",
    "We create a new instance of the MyObject class and store it in the obj variable, and then delete it using the del statement."
   ]
  },
  {
   "cell_type": "code",
   "execution_count": 4,
   "id": "3f9607ce-f6d9-48da-98d5-4eb2bb6d33ee",
   "metadata": {},
   "outputs": [],
   "source": [
    "# object created\n",
    "# object destroyed\n"
   ]
  },
  {
   "cell_type": "markdown",
   "id": "9e27d9ee-292e-41a3-9afd-13c9816fbced",
   "metadata": {},
   "source": [
    "This output shows that the constructor method is called when the object is created, and the destructor method is called when the object is deleted using the del statement."
   ]
  },
  {
   "cell_type": "code",
   "execution_count": 5,
   "id": "e5427125-9a8c-40d0-ac70-d0402eaaa5e7",
   "metadata": {},
   "outputs": [],
   "source": [
    "# it's not recommended to rely on the destructor method for resource management in Python, as it may not be called at a predictable time. \n",
    "# It's usually better to use context managers or the with statement to handle resource management in a more reliable and predictable way."
   ]
  },
  {
   "cell_type": "markdown",
   "id": "41a51369-adfd-4b7f-ad49-122efec75fd4",
   "metadata": {},
   "source": [
    "##### use above code, when we **pass more than 2 argumnets** in  __init__() method"
   ]
  },
  {
   "cell_type": "code",
   "execution_count": 6,
   "id": "d2f0b1a7-50fd-40a2-9d71-69bb8a615517",
   "metadata": {},
   "outputs": [
    {
     "name": "stdout",
     "output_type": "stream",
     "text": [
      "object created with values: 10, 20\n",
      "object destroyed\n"
     ]
    }
   ],
   "source": [
    "# here's an example of using the __init__ method with more than two arguments in the MyObject class, along with the destructor __del__ method:\n",
    "\n",
    "class MyObject:\n",
    "    def __init__(self, name, value1, value2):\n",
    "        self.name = name\n",
    "        self.value1 = value1\n",
    "        self.value2 = value2\n",
    "        print(f'{self.name} created with values: {self.value1}, {self.value2}')\n",
    "    \n",
    "    def __del__(self):\n",
    "        print(f'{self.name} destroyed')\n",
    "        \n",
    "obj = MyObject('object', 10, 20)\n",
    "del obj\n"
   ]
  },
  {
   "cell_type": "markdown",
   "id": "9b7dfaa8-9736-48f2-b8ab-5ce356827dfa",
   "metadata": {},
   "source": [
    "In this example, we add two more arguments value1 and value2 to the __init__ method, which are also set as attributes of the MyObject instance. \n",
    "\n",
    "When we create an instance of the MyObject class using the obj = MyObject('object', 10, 20) statement, we pass three arguments to the constructor method, including the name argument and two additional arguments value1 and value2."
   ]
  },
  {
   "cell_type": "code",
   "execution_count": 7,
   "id": "a0ad6113-ddfb-4720-ba7c-1ab9d2c10013",
   "metadata": {},
   "outputs": [],
   "source": [
    "# object created with values: 10, 20\n",
    "# object destroyed\n"
   ]
  },
  {
   "cell_type": "markdown",
   "id": "bad446c4-8ed0-4156-b5c1-2621cd2042ea",
   "metadata": {},
   "source": [
    "###### This output shows that the constructor method is called with all three arguments, and the destructor method is called when the object is deleted using the del statement."
   ]
  },
  {
   "cell_type": "markdown",
   "id": "6a83923d-c112-4a97-a7d1-dc68c8bc8817",
   "metadata": {},
   "source": [
    "Next NoteBook"
   ]
  }
 ],
 "metadata": {
  "kernelspec": {
   "display_name": "Python 3 (ipykernel)",
   "language": "python",
   "name": "python3"
  },
  "language_info": {
   "codemirror_mode": {
    "name": "ipython",
    "version": 3
   },
   "file_extension": ".py",
   "mimetype": "text/x-python",
   "name": "python",
   "nbconvert_exporter": "python",
   "pygments_lexer": "ipython3",
   "version": "3.10.8"
  }
 },
 "nbformat": 4,
 "nbformat_minor": 5
}
