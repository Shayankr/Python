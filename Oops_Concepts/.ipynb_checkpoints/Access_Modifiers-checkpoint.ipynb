{
 "cells": [
  {
   "cell_type": "markdown",
   "id": "0acfe522-c7db-41ee-9e81-e74bbc9ea885",
   "metadata": {},
   "source": [
    "# public, protected, private"
   ]
  },
  {
   "cell_type": "markdown",
   "id": "1d6a7140-5410-420c-8a85-b93295479e6d",
   "metadata": {},
   "source": [
    "In Python, there are no strict access modifiers like public, protected, and private. However, we can use naming conventions to indicate the visibility of variables and methods."
   ]
  },
  {
   "cell_type": "markdown",
   "id": "1bda2b73-08d5-40be-9e95-aa0793d41fd4",
   "metadata": {},
   "source": [
    "Here's an example that shows the use of naming conventions to represent public, protected, and private variables and methods:"
   ]
  },
  {
   "cell_type": "code",
   "execution_count": 1,
   "id": "eb432c5e-69e6-480b-8037-12fdcbc55174",
   "metadata": {},
   "outputs": [],
   "source": [
    "class MyClass:\n",
    "    def __init__(self, public_var, protected_var, private_var):\n",
    "        self.public_var = public_var\n",
    "        self._protected_var = protected_var\n",
    "        self.__private_var = private_var\n",
    "\n",
    "    def public_method(self):\n",
    "        print(\"This is a public method.\")\n",
    "\n",
    "    def _protected_method(self):\n",
    "        print(\"This is a protected method.\")\n",
    "\n",
    "    def __private_method(self):\n",
    "        print(\"This is a private method.\")\n",
    "\n",
    "    def get_private_var(self):\n",
    "        return self.__private_var\n",
    "\n",
    "    def set_private_var(self, value):\n",
    "        self.__private_var = value\n"
   ]
  },
  {
   "cell_type": "markdown",
   "id": "5ac0db35-ded9-447f-adf4-30709eb10b8e",
   "metadata": {},
   "source": [
    "In this example, we have defined three variables: public_var, _protected_var, and __private_var. Here, public_var is public, _protected_var is protected, and __private_var is private. We can access all three variables from outside the class, but the use of _ and __ as naming conventions indicates that _protected_var and __private_var should not be accessed from outside the class."
   ]
  },
  {
   "cell_type": "markdown",
   "id": "700a506d-7c04-4a60-9fe3-b29d87315368",
   "metadata": {},
   "source": [
    "Similarly, we have defined three methods: public_method(), _protected_method(), and __private_method(). Here, public_method() is public, _protected_method() is protected, and __private_method() is private. We can call all three methods from outside the class, but the use of _ and __ as naming conventions indicates that _protected_method() and __private_method() should not be called from outside the class."
   ]
  },
  {
   "cell_type": "markdown",
   "id": "0a2796e7-318f-4395-a100-cf2d8a0cf19c",
   "metadata": {},
   "source": [
    "Additionally, we have defined two methods get_private_var() and set_private_var() to access and modify the private variable __private_var. These methods allow us to get and set the value of __private_var from outside the class without directly accessing it"
   ]
  },
  {
   "cell_type": "markdown",
   "id": "6151530a-9eed-4856-adb9-d4dd8aba4975",
   "metadata": {},
   "source": [
    "## Let's explain it in more details using code:"
   ]
  },
  {
   "cell_type": "code",
   "execution_count": 2,
   "id": "a3c71194-8b85-4bf0-b1d2-0525520848ce",
   "metadata": {},
   "outputs": [
    {
     "name": "stdout",
     "output_type": "stream",
     "text": [
      "John\n",
      "101\n",
      "30\n",
      "90\n",
      "30\n",
      "90\n",
      "Unknown\n",
      "Unknown\n"
     ]
    },
    {
     "ename": "AttributeError",
     "evalue": "'Student' object has no attribute '_Student__display_details'",
     "output_type": "error",
     "traceback": [
      "\u001b[0;31m---------------------------------------------------------------------------\u001b[0m",
      "\u001b[0;31mAttributeError\u001b[0m                            Traceback (most recent call last)",
      "Cell \u001b[0;32mIn[2], line 72\u001b[0m\n\u001b[1;32m     65\u001b[0m \u001b[38;5;28mprint\u001b[39m(student1\u001b[38;5;241m.\u001b[39m_get_attendance())\n\u001b[1;32m     67\u001b[0m \u001b[38;5;66;03m# access private method - not possible outside the class\u001b[39;00m\n\u001b[1;32m     68\u001b[0m \u001b[38;5;66;03m# person1.__display_details()\u001b[39;00m\n\u001b[1;32m     69\u001b[0m \u001b[38;5;66;03m# student1.__display_details()\u001b[39;00m\n\u001b[1;32m     70\u001b[0m \n\u001b[1;32m     71\u001b[0m \u001b[38;5;66;03m# call public method to display details\u001b[39;00m\n\u001b[0;32m---> 72\u001b[0m \u001b[43mstudent1\u001b[49m\u001b[38;5;241;43m.\u001b[39;49m\u001b[43mdisplay_details\u001b[49m\u001b[43m(\u001b[49m\u001b[43m)\u001b[49m\n\u001b[1;32m     74\u001b[0m \u001b[38;5;66;03m# update private variable using setter method\u001b[39;00m\n\u001b[1;32m     75\u001b[0m student1\u001b[38;5;241m.\u001b[39mset_attendance(\u001b[38;5;124m\"\u001b[39m\u001b[38;5;124m75\u001b[39m\u001b[38;5;124m%\u001b[39m\u001b[38;5;124m\"\u001b[39m)\n",
      "Cell \u001b[0;32mIn[2], line 38\u001b[0m, in \u001b[0;36mStudent.display_details\u001b[0;34m(self)\u001b[0m\n\u001b[1;32m     37\u001b[0m \u001b[38;5;28;01mdef\u001b[39;00m \u001b[38;5;21mdisplay_details\u001b[39m(\u001b[38;5;28mself\u001b[39m):\n\u001b[0;32m---> 38\u001b[0m     \u001b[38;5;28;43mself\u001b[39;49m\u001b[38;5;241;43m.\u001b[39;49m\u001b[43m__display_details\u001b[49m()\n\u001b[1;32m     39\u001b[0m     \u001b[38;5;28mprint\u001b[39m(\u001b[38;5;124m\"\u001b[39m\u001b[38;5;124mRoll Number: \u001b[39m\u001b[38;5;124m\"\u001b[39m, \u001b[38;5;28mself\u001b[39m\u001b[38;5;241m.\u001b[39mroll_number)\n\u001b[1;32m     40\u001b[0m     \u001b[38;5;28mprint\u001b[39m(\u001b[38;5;124m\"\u001b[39m\u001b[38;5;124mMarks: \u001b[39m\u001b[38;5;124m\"\u001b[39m, \u001b[38;5;28mself\u001b[39m\u001b[38;5;241m.\u001b[39m_marks)\n",
      "\u001b[0;31mAttributeError\u001b[0m: 'Student' object has no attribute '_Student__display_details'"
     ]
    }
   ],
   "source": [
    "class Person:\n",
    "    def __init__(self, name, age):\n",
    "        self.name = name  # public variable\n",
    "        self._age = age  # protected variable\n",
    "        self.__address = \"Unknown\"  # private variable\n",
    "\n",
    "    # public method\n",
    "    def get_age(self):\n",
    "        return self._age\n",
    "\n",
    "    # protected method\n",
    "    def _get_address(self):\n",
    "        return self.__address\n",
    "\n",
    "    # private method\n",
    "    def __display_details(self):\n",
    "        print(\"Name: \", self.name)\n",
    "        print(\"Age: \", self._age)\n",
    "        print(\"Address: \", self.__address)\n",
    "\n",
    "class Student(Person):\n",
    "    def __init__(self, name, age, roll_number, marks):\n",
    "        super().__init__(name, age)\n",
    "        self.roll_number = roll_number  # public variable\n",
    "        self._marks = marks  # protected variable\n",
    "        self.__attendance = \"Unknown\"  # private variable\n",
    "\n",
    "    def get_marks(self):\n",
    "        return self._marks\n",
    "\n",
    "    def _get_attendance(self):\n",
    "        return self.__attendance\n",
    "\n",
    "    def set_attendance(self, attendance):\n",
    "        self.__attendance = attendance\n",
    "\n",
    "    def display_details(self):\n",
    "        self.__display_details()\n",
    "        print(\"Roll Number: \", self.roll_number)\n",
    "        print(\"Marks: \", self._marks)\n",
    "        print(\"Attendance: \", self.__attendance)\n",
    "\n",
    "# create objects\n",
    "person1 = Person(\"John\", 30)\n",
    "student1 = Student(\"Alice\", 20, 101, 90)\n",
    "\n",
    "# access public variable\n",
    "print(person1.name)\n",
    "print(student1.roll_number)\n",
    "\n",
    "# access protected variable\n",
    "print(person1._age)\n",
    "print(student1._marks)\n",
    "\n",
    "# access private variable - not possible outside the class\n",
    "# print(person1.__address)\n",
    "# print(student1.__attendance)\n",
    "\n",
    "# access public method\n",
    "print(person1.get_age())\n",
    "print(student1.get_marks())\n",
    "\n",
    "# access protected method - not recommended\n",
    "print(person1._get_address())\n",
    "print(student1._get_attendance())\n",
    "\n",
    "# access private method - not possible outside the class\n",
    "# person1.__display_details()\n",
    "# student1.__display_details()\n",
    "\n",
    "# call public method to display details\n",
    "student1.display_details()\n",
    "\n",
    "# update private variable using setter method\n",
    "student1.set_attendance(\"75%\")\n",
    "print(student1._get_attendance())\n"
   ]
  },
  {
   "cell_type": "markdown",
   "id": "4f177b9b-81f6-48b6-93ae-23bdac1b8b2d",
   "metadata": {},
   "source": [
    "In this example, we have a Person class and a Student class that inherits from Person. The Person class has a public variable name, a protected variable _age, and a private variable __address. Similarly, it has public, protected, and private methods get_age(), _get_address(), and __display_details() respectively."
   ]
  },
  {
   "cell_type": "markdown",
   "id": "3113eb31-b775-4079-9ef4-04c6869d7e25",
   "metadata": {},
   "source": [
    "The Student class has public variable roll_number, a protected variable _marks, and a private variable __attendance. It has public, protected, and private methods get_marks(), _get_attendance(), and set_attendance() respectively. It also has a display_details() method that calls the __display_details() method of the parent class and displays additional details."
   ]
  },
  {
   "cell_type": "markdown",
   "id": "90e3498d-5335-4179-b06d-ab86913665d9",
   "metadata": {},
   "source": [
    "We create objects of Person and Student classes and access their variables and methods. We can access the public variables and methods directly using the object. We can access the protected variables and methods using the object, but it is not recommended to do so. We cannot access the private variables and methods outside the class. We can access the protected and private variables and methods using their respective public or protected methods. Finally, we can update the private variable using the setter method."
   ]
  },
  {
   "cell_type": "markdown",
   "id": "824065f5-61f0-4775-8880-418082a08170",
   "metadata": {},
   "source": [
    "### **AttributeError: 'Student' object has no attribute '_Student__display_details**"
   ]
  },
  {
   "cell_type": "markdown",
   "id": "47e179d8-9e57-4482-bd43-87cd1835ec4d",
   "metadata": {},
   "source": [
    "The error message AttributeError: 'Student' object has no attribute '_Student__display_details' indicates that the program is trying to access an attribute or method that is not defined in the class."
   ]
  },
  {
   "cell_type": "markdown",
   "id": "54aa8d9c-96dc-4824-a970-4df62eb9916d",
   "metadata": {},
   "source": [
    "This error is typically caused by a spelling mistake in the attribute or method name, or by trying to access a private attribute or method that is not intended to be accessed from outside the class"
   ]
  },
  {
   "cell_type": "markdown",
   "id": "c6ef274c-e38f-48c9-a777-b432fcb64098",
   "metadata": {},
   "source": [
    "In the context of the code you provided earlier, the error might occur if you are trying to access a private method using the wrong name, or if you are trying to access the private method from outside the class."
   ]
  },
  {
   "cell_type": "markdown",
   "id": "e87e4049-5ff8-4008-b216-5046820ec759",
   "metadata": {},
   "source": [
    "Here is an example of how this error might occur in your code:"
   ]
  },
  {
   "cell_type": "code",
   "execution_count": 3,
   "id": "7ba10ec2-0acb-48a6-adc0-e8f3b842aab9",
   "metadata": {},
   "outputs": [
    {
     "name": "stdout",
     "output_type": "stream",
     "text": [
      "Name: John\n",
      "Roll No: 12345\n"
     ]
    },
    {
     "ename": "AttributeError",
     "evalue": "'Student' object has no attribute '__display_details'",
     "output_type": "error",
     "traceback": [
      "\u001b[0;31m---------------------------------------------------------------------------\u001b[0m",
      "\u001b[0;31mAttributeError\u001b[0m                            Traceback (most recent call last)",
      "Cell \u001b[0;32mIn[3], line 15\u001b[0m\n\u001b[1;32m     13\u001b[0m s \u001b[38;5;241m=\u001b[39m Student(\u001b[38;5;124m\"\u001b[39m\u001b[38;5;124mJohn\u001b[39m\u001b[38;5;124m\"\u001b[39m, \u001b[38;5;241m12345\u001b[39m)\n\u001b[1;32m     14\u001b[0m s\u001b[38;5;241m.\u001b[39mdisplay_details() \u001b[38;5;66;03m# this will work\u001b[39;00m\n\u001b[0;32m---> 15\u001b[0m \u001b[43ms\u001b[49m\u001b[38;5;241;43m.\u001b[39;49m\u001b[43m__display_details\u001b[49m() \u001b[38;5;66;03m# this will cause an AttributeError\u001b[39;00m\n",
      "\u001b[0;31mAttributeError\u001b[0m: 'Student' object has no attribute '__display_details'"
     ]
    }
   ],
   "source": [
    "class Student:\n",
    "    def __init__(self, name, roll_no):\n",
    "        self.name = name\n",
    "        self.__roll_no = roll_no\n",
    "\n",
    "    def display_details(self):\n",
    "        print(\"Name:\", self.name)\n",
    "        print(\"Roll No:\", self.__roll_no)\n",
    "\n",
    "    def __display_details(self):\n",
    "        print(\"This is a private method\")\n",
    "\n",
    "s = Student(\"John\", 12345)\n",
    "s.display_details() # this will work\n",
    "s.__display_details() # this will cause an AttributeError\n"
   ]
  },
  {
   "cell_type": "markdown",
   "id": "66f96e92-1d39-44e2-a6d4-2e64d3daf7a4",
   "metadata": {},
   "source": [
    "In this example, we have defined a private method __display_details in the Student class. Since this method is private, it is not intended to be accessed from outside the class."
   ]
  },
  {
   "cell_type": "markdown",
   "id": "cd708959-b5fc-4890-8b9c-c39f05c36c5f",
   "metadata": {},
   "source": [
    "When we try to access the private method using the s.__display_details() syntax, we get an AttributeError because the method is not defined for the object."
   ]
  },
  {
   "cell_type": "markdown",
   "id": "08db99ab-2d78-4aff-8c88-6135861441a7",
   "metadata": {},
   "source": [
    "To fix this error, you can either remove the reference to the private method or change it to a public method by removing the leading double underscore __ from the method name."
   ]
  },
  {
   "cell_type": "code",
   "execution_count": 4,
   "id": "9605ac79-22f3-4762-9b2b-d9f5ef813480",
   "metadata": {},
   "outputs": [
    {
     "name": "stdout",
     "output_type": "stream",
     "text": [
      "Name: John\n",
      "Roll Number: 123\n",
      "Branch: CSE\n",
      "Student Roll Number: 123\n",
      "Student Branch: CSE\n",
      "Student Roll Number (after update): 456\n"
     ]
    }
   ],
   "source": [
    "class Student:\n",
    "    def __init__(self, name, rollno, branch):\n",
    "        self.name = name\n",
    "        self.__rollno = rollno\n",
    "        self._branch = branch\n",
    "\n",
    "    def display_details(self):\n",
    "        print(\"Name:\", self.name)\n",
    "        print(\"Roll Number:\", self.__rollno)\n",
    "        print(\"Branch:\", self._branch)\n",
    "\n",
    "    def set_rollno(self, rollno):\n",
    "        self.__rollno = rollno\n",
    "\n",
    "    def get_rollno(self):\n",
    "        return self.__rollno\n",
    "\n",
    "\n",
    "# Creating objects of Student class\n",
    "student1 = Student(\"John\", 123, \"CSE\")\n",
    "student2 = Student(\"Jane\", 234, \"IT\")\n",
    "\n",
    "# Accessing public attributes and methods\n",
    "student1.display_details()\n",
    "print(\"Student Roll Number:\", student1.get_rollno())\n",
    "\n",
    "# Accessing protected attribute\n",
    "print(\"Student Branch:\", student1._branch)\n",
    "\n",
    "# Updating private attribute\n",
    "student1.set_rollno(456)\n",
    "\n",
    "# Accessing updated private attribute\n",
    "print(\"Student Roll Number (after update):\", student1.get_rollno())\n"
   ]
  },
  {
   "cell_type": "markdown",
   "id": "c1cc6f66-c134-4a1c-8cd3-0d440663c63d",
   "metadata": {},
   "source": [
    "This code defines a Student class with public, protected, and private attributes and methods. The display_details method displays the name, roll number, and branch of the student. The set_rollno and get_rollno methods allow us to update and retrieve the private __rollno attribute of the student. We create two objects of the Student class and access their public attributes and methods. We also access the protected branch attribute of the student1 object and update its private __rollno attribute."
   ]
  },
  {
   "cell_type": "code",
   "execution_count": null,
   "id": "fa7da81d-39e3-4fe3-a9b2-34dbfb6d8dfc",
   "metadata": {},
   "outputs": [],
   "source": []
  }
 ],
 "metadata": {
  "kernelspec": {
   "display_name": "Python 3 (ipykernel)",
   "language": "python",
   "name": "python3"
  },
  "language_info": {
   "codemirror_mode": {
    "name": "ipython",
    "version": 3
   },
   "file_extension": ".py",
   "mimetype": "text/x-python",
   "name": "python",
   "nbconvert_exporter": "python",
   "pygments_lexer": "ipython3",
   "version": "3.10.8"
  }
 },
 "nbformat": 4,
 "nbformat_minor": 5
}
