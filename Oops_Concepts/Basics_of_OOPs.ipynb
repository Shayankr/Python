{
 "cells": [
  {
   "cell_type": "markdown",
   "id": "090e2320",
   "metadata": {},
   "source": [
    "# <center>Object Oriented Programming"
   ]
  },
  {
   "cell_type": "markdown",
   "id": "798945e2",
   "metadata": {},
   "source": [
    "<img src=\"https://media.geeksforgeeks.org/wp-content/cdn-uploads/20190717114649/Object-Oriented-Programming-Concepts.jpg\" height=200 width=300/>"
   ]
  },
  {
   "cell_type": "markdown",
   "id": "a37557f8",
   "metadata": {},
   "source": [
    "OOPs is <b>a programming paradigms</b> that uses the concept of <b>class</b> and <b>objects</b>."
   ]
  },
  {
   "cell_type": "markdown",
   "id": "9c59ab70",
   "metadata": {},
   "source": [
    "It implements real-world entities like inheritance, polymorphisms, encapsulation, etc. in the programming"
   ]
  },
  {
   "cell_type": "markdown",
   "id": "16fc4ec8",
   "metadata": {},
   "source": [
    "There are 4 pillars of OOPs:\n",
    "*    1. Inheritance\n",
    "*    2. Encapsulation\n",
    "*    3. Abstraction\n",
    "*    4. Polymorphism"
   ]
  },
  {
   "cell_type": "markdown",
   "id": "a49a1680",
   "metadata": {},
   "source": [
    "<b>Class </b>\n",
    "* A class is a collection of objects. \n",
    "* A class contains the blueprints or the prototype from which the objects are being created. \n",
    "* It is a logical entity that contains some <b>attributes</b> and <b>methods. </b>"
   ]
  },
  {
   "cell_type": "markdown",
   "id": "a9f9cdaf",
   "metadata": {},
   "source": [
    "<b>Some points on Python class: </b> \n",
    "\n",
    "* Classes are created by <b>keyword class</b>.\n",
    "* Attributes are the variables that belong to a class.\n",
    "* <b>Attributes are always public</b> and can be accessed using the dot (.) operator. Eg.: Myclass.Myattribute"
   ]
  },
  {
   "cell_type": "code",
   "execution_count": null,
   "id": "78eb9eb3",
   "metadata": {},
   "outputs": [],
   "source": []
  }
 ],
 "metadata": {
  "kernelspec": {
   "display_name": "Python 3 (ipykernel)",
   "language": "python",
   "name": "python3"
  },
  "language_info": {
   "codemirror_mode": {
    "name": "ipython",
    "version": 3
   },
   "file_extension": ".py",
   "mimetype": "text/x-python",
   "name": "python",
   "nbconvert_exporter": "python",
   "pygments_lexer": "ipython3",
   "version": "3.9.13"
  }
 },
 "nbformat": 4,
 "nbformat_minor": 5
}
